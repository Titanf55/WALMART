{
 "cells": [
  {
   "cell_type": "code",
   "execution_count": 2,
   "id": "35fa6e4d-8742-4676-be7f-170e60bf7c78",
   "metadata": {},
   "outputs": [
    {
     "name": "stdout",
     "output_type": "stream",
     "text": [
      "JSON files saved and copied to backup.\n",
      "JSON files saved and copied to backup.\n",
      "JSON files saved and copied to backup.\n",
      "JSON files saved and copied to backup.\n"
     ]
    }
   ],
   "source": [
    "#import cv2\n",
    "#import cv2\n",
    "import pandas as pd\n",
    "import numpy as np\n",
    "import time\n",
    "#from pyzbar.pyzbar import decode\n",
    "from datetime import datetime\n",
    "import os\n",
    "import shutil  # ✅ for copying files\n",
    "\n",
    "# --- Load Initial Data ---\n",
    "df = pd.read_csv(\"grocery_df.csv\")\n",
    "\n",
    "# Convert necessary date columns\n",
    "for col in ['Date_Received', 'Expiration_Date', 'Discount_Date', 'Donation_Date']:\n",
    "    df[col] = pd.to_datetime(df[col])\n",
    "\n",
    "# --- Status Function ---\n",
    "def get_status(row, today):\n",
    "    if today < row['Discount_Date']:\n",
    "        return 'Fresh'\n",
    "    elif row['Discount_Date'] <= today < row['Donation_Date']:\n",
    "        return 'Discount'\n",
    "    elif row['Donation_Date'] <= today < row['Expiration_Date']:\n",
    "        return 'Donation'\n",
    "    else:\n",
    "        return 'Expired'\n",
    "\n",
    "def update_status(df, today):\n",
    "    df['Status'] = df.apply(lambda row: get_status(row, today), axis=1)\n",
    "    return df\n",
    "\n",
    "# --- Table Generator ---\n",
    "def generate_tables(df):\n",
    "    inventory_table = df[['Product_ID', 'Product_Name', 'Catagory', 'Supplier_ID', 'Supplier_Name',\n",
    "                          'Stock_Quantity', 'Reorder_Level', 'Reorder_Quantity', 'Unit_Price',\n",
    "                          'Date_Received', 'Expiration_Date', 'Discount_Date', 'Donation_Date',\n",
    "                          'Shelf_Life_(Days)', 'Shelf_Life_(Years)', 'Shelf_Life_Bin', 'Status']]\n",
    "\n",
    "    fresh_table = inventory_table[df['Status'] == 'Fresh']\n",
    "    discount_table = inventory_table[df['Status'] == 'Discount']\n",
    "    donation_table = inventory_table[df['Status'] == 'Donation']\n",
    "    expired_table = inventory_table[df['Status'] == 'Expired']\n",
    "\n",
    "    return inventory_table, fresh_table, discount_table, donation_table, expired_table\n",
    "\n",
    "# --- Set path of already existing backup folder ---\n",
    "backup_dir = r'C:/Users/PC/WALMART/inventory/my-app/public'  # Change this to your actual path if needed\n",
    "\n",
    "# --- Real-Time Simulation with JSON Export + Copy ---\n",
    "def simulate_realtime_update(interval_sec=10, duration_sec=60):\n",
    "    global df\n",
    "    start_time = time.time()\n",
    "    while (time.time() - start_time) < duration_sec:\n",
    "        today = pd.Timestamp('2025-05-31')  # fixed date for testing\n",
    "        df = update_status(df, today)\n",
    "        inventory_table, fresh_table, discount_table, donation_table, expired_table = generate_tables(df)\n",
    "\n",
    "        # Save JSON to current directory\n",
    "        inventory_table.to_json(\"inventory.json\", orient='records', date_format='iso')\n",
    "        fresh_table.to_json(\"fresh.json\", orient='records', date_format='iso')\n",
    "        discount_table.to_json(\"discount.json\", orient='records', date_format='iso')\n",
    "        donation_table.to_json(\"donation.json\", orient='records', date_format='iso')\n",
    "        expired_table.to_json(\"expired.json\", orient='records', date_format='iso')\n",
    "\n",
    "        # Copy them to backup folder\n",
    "        shutil.copy(\"inventory.json\", os.path.join(backup_dir, \"inventory.json\"))\n",
    "        shutil.copy(\"fresh.json\", os.path.join(backup_dir, \"fresh.json\"))\n",
    "        shutil.copy(\"discount.json\", os.path.join(backup_dir, \"discount.json\"))\n",
    "        shutil.copy(\"donation.json\", os.path.join(backup_dir, \"donation.json\"))\n",
    "        shutil.copy(\"expired.json\", os.path.join(backup_dir, \"expired.json\"))\n",
    "\n",
    "        print(\"JSON files saved and copied to backup.\")\n",
    "        time.sleep(interval_sec)\n",
    "\n",
    "# --- Start Real-Time Simulation ---\n",
    "simulate_realtime_update(interval_sec=5, duration_sec=20)"
   ]
  },
  {
   "cell_type": "code",
   "execution_count": null,
   "id": "f3a032d9-4073-4b0a-abdc-c7fb0c40d4a8",
   "metadata": {},
   "outputs": [],
   "source": []
  },
  {
   "cell_type": "code",
   "execution_count": null,
   "id": "6135e4c8-af6e-4b76-93cd-0b698390f91f",
   "metadata": {},
   "outputs": [],
   "source": []
  },
  {
   "cell_type": "code",
   "execution_count": null,
   "id": "f5e8dc66-4baa-46e4-8840-b809c995eefd",
   "metadata": {},
   "outputs": [],
   "source": []
  },
  {
   "cell_type": "code",
   "execution_count": null,
   "id": "be81b3dd-0d4b-4739-b78c-746931579619",
   "metadata": {},
   "outputs": [],
   "source": []
  },
  {
   "cell_type": "code",
   "execution_count": null,
   "id": "62b14a06-0e68-43b4-97ff-da88975342ad",
   "metadata": {},
   "outputs": [],
   "source": []
  },
  {
   "cell_type": "code",
   "execution_count": null,
   "id": "dba7a462-b1d1-4de4-920c-4b62e295a98b",
   "metadata": {},
   "outputs": [],
   "source": []
  }
 ],
 "metadata": {
  "kernelspec": {
   "display_name": "Python 3",
   "language": "python",
   "name": "python3"
  },
  "language_info": {
   "codemirror_mode": {
    "name": "ipython",
    "version": 3
   },
   "file_extension": ".py",
   "mimetype": "text/x-python",
   "name": "python",
   "nbconvert_exporter": "python",
   "pygments_lexer": "ipython3",
   "version": "3.12.5"
  }
 },
 "nbformat": 4,
 "nbformat_minor": 5
}
